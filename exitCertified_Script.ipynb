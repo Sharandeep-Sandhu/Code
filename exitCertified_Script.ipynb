{
 "cells": [
  {
   "cell_type": "code",
   "execution_count": 11,
   "metadata": {},
   "outputs": [
    {
     "name": "stdout",
     "output_type": "stream",
     "text": [
      "Requirement already satisfied: selenium in c:\\users\\acer\\appdata\\local\\programs\\python\\python312\\lib\\site-packages (4.20.0)Note: you may need to restart the kernel to use updated packages."
     ]
    },
    {
     "name": "stderr",
     "output_type": "stream",
     "text": [
      "\n"
     ]
    },
    {
     "name": "stdout",
     "output_type": "stream",
     "text": [
      "\n"
     ]
    },
    {
     "name": "stderr",
     "output_type": "stream",
     "text": [
      "[notice] A new release of pip is available: 24.0 -> 24.1.2"
     ]
    },
    {
     "name": "stdout",
     "output_type": "stream",
     "text": [
      "Requirement already satisfied: beautifulsoup4 in c:\\users\\acer\\appdata\\local\\programs\\python\\python312\\lib\\site-packages (4.12.3)"
     ]
    },
    {
     "name": "stderr",
     "output_type": "stream",
     "text": [
      "\n"
     ]
    },
    {
     "name": "stdout",
     "output_type": "stream",
     "text": [
      "\n",
      "\n"
     ]
    },
    {
     "name": "stderr",
     "output_type": "stream",
     "text": [
      "[notice] To update, run: python.exe -m pip install --upgrade pip"
     ]
    },
    {
     "name": "stdout",
     "output_type": "stream",
     "text": [
      "Requirement already satisfied: pandas in c:\\users\\acer\\appdata\\local\\programs\\python\\python312\\lib\\site-packages (2.2.2)"
     ]
    },
    {
     "name": "stderr",
     "output_type": "stream",
     "text": [
      "\n"
     ]
    },
    {
     "name": "stdout",
     "output_type": "stream",
     "text": [
      "\n",
      "Requirement already satisfied: fake_useragent in c:\\users\\acer\\appdata\\local\\programs\\python\\python312\\lib\\site-packages (1.5.1)"
     ]
    }
   ],
   "source": [
    "pip install selenium beautifulsoup4 pandas fake_useragent colorama openpyxl\n"
   ]
  },
  {
   "cell_type": "code",
   "execution_count": 2,
   "metadata": {},
   "outputs": [
    {
     "name": "stdout",
     "output_type": "stream",
     "text": [
      "|█████████████████████████████████░░░░░░░░░░░░░░░░░░░░░░░░░░░░░░░░░░░░░░░░░░░░░░░░░░░░░░░░░░░░░░░░░░░| 33.33% [1/3] [0:0:23.16] ██████████████████████████████████████████████████████████████████░░░░░░░░░░░░░░░░░░░░░░░░░░░░░░░░░░| 66.67% [2/3] [0:0:13.56] ████████████████████████████████████████████████████████████████████████████████████████████████████| 100.00% [3/3] [0:0:0.00] ████████████████████████████████████████████████████████████████████████████████████████████████████| 100.00% [3/3] [0:0:37.54] \n",
      "\n",
      "Data saved to Excel\n"
     ]
    }
   ],
   "source": [
    "chrome = False\n",
    "chrome = True\n",
    "\n",
    "if chrome:\n",
    "    from selenium.webdriver.chrome.options import Options\n",
    "else:\n",
    "    from selenium.webdriver.firefox.options import Options\n",
    "from selenium import webdriver\n",
    "from selenium.webdriver.common.by import By\n",
    "from selenium.webdriver.common.action_chains import ActionChains\n",
    "import time\n",
    "sleep = time.sleep\n",
    "time = time.time\n",
    "import re\n",
    "from fake_useragent import UserAgent\n",
    "import colorama\n",
    "\n",
    "################################### Progress Bar ###################################\n",
    "colorama.init()\n",
    "RED = colorama.Fore.LIGHTRED_EX\n",
    "CYAN = colorama.Fore.CYAN\n",
    "GREEN = colorama.Fore.LIGHTGREEN_EX\n",
    "YELLOW = colorama.Fore.YELLOW\n",
    "LIGHTYELLOW = colorama.Fore.LIGHTYELLOW_EX\n",
    "MAGENTA = colorama.Fore.LIGHTMAGENTA_EX\n",
    "DARKGREEN = colorama.Fore.GREEN\n",
    "BLUE = colorama.Fore.BLUE\n",
    "RESET = colorama.Fore.RESET\n",
    "\n",
    "def convertSeconds(seconds):\n",
    "    seconds = float(seconds)\n",
    "    hours = int(seconds / 3600)\n",
    "    seconds %= 3600\n",
    "    minutes = int(seconds / 60)\n",
    "    seconds %= 60\n",
    "\n",
    "    time_str = f\"[{hours}:{minutes}:{seconds:.2f}]\"\n",
    "    return time_str\n",
    "\n",
    "def progressBar(total, current, start_time):\n",
    "    current += 1\n",
    "    \n",
    "    empty = RED+'░'\n",
    "    filled = GREEN+'█'\n",
    "    border = BLUE+'|'\n",
    "\n",
    "    percent = (current/total)*100\n",
    "    filled_count = int(percent)\n",
    "    empty_count = 100-filled_count\n",
    "\n",
    "    try:\n",
    "        t = time()\n",
    "        time_left = (t-start_time)*(total/current) - (t-start_time)\n",
    "    except Exception as e:\n",
    "        print(f'Error in calculating time left: {e}')\n",
    "        time_left = 0\n",
    "\n",
    "    time_left = convertSeconds(time_left)\n",
    "    print(f'\\r{border}{filled*filled_count}{empty*empty_count}{border}{YELLOW} {percent:.2f}% [{current}/{total}] {CYAN}{time_left} {RESET}',end='')\n",
    "\n",
    "    if percent == 100:\n",
    "        time_left = convertSeconds(time()-start_time)\n",
    "        print(f'\\r{border}{filled*filled_count}{empty*empty_count}{border}{YELLOW} {percent:.2f}% [{current}/{total}] {CYAN}{time_left} {MAGENTA}\\n',end=RESET)\n",
    "\n",
    "################################### Main Functionality ###################################\n",
    "\n",
    "def setup():\n",
    "    global action\n",
    "    user = UserAgent().random\n",
    "    options = Options()\n",
    "    options.add_argument(\"--window-size=1920,1080\")\n",
    "    options.add_argument(\"--no-sandbox\")\n",
    "    # options.add_argument(\"--headless\")  # Try running without headless mode to debug\n",
    "    options.add_argument(\"--disable-gpu\")\n",
    "    options.add_argument(\"--disable-crash-reporter\")\n",
    "    options.add_argument(\"--disable-extensions\")\n",
    "    options.add_argument(\"--disable-in-process-stack-traces\")\n",
    "    options.add_argument(\"--disable-logging\")\n",
    "    options.add_argument(\"--disable-dev-shm-usage\")\n",
    "    options.add_argument(\"--incognito\")\n",
    "    options.add_argument(\"--log-level=3\")\n",
    "    options.add_argument(\"--output=/dev/null\")\n",
    "    options.add_argument(f\"user-agent={user}\")\n",
    "\n",
    "    # Add DNS server option\n",
    "    options.add_argument(\"--dns-prefetch-disable\")\n",
    "\n",
    "    if chrome:\n",
    "        driver = webdriver.Chrome(options=options)\n",
    "    else:\n",
    "        driver = webdriver.Firefox(options=options)\n",
    "    driver.maximize_window()\n",
    "    action = ActionChains(driver)\n",
    "\n",
    "    return driver\n",
    "\n",
    "from bs4 import BeautifulSoup\n",
    "def get_data(element):\n",
    "    html = element.get_attribute('innerHTML')\n",
    "    soup = BeautifulSoup(html, 'html.parser')\n",
    "    data = soup.get_text(\"\\n\", strip=True)\n",
    "    return data + '\\n'\n",
    "\n",
    "def click(driver, element):\n",
    "    driver.execute_script(\"arguments[0].click();\", element)\n",
    "\n",
    "def get_price(value):\n",
    "    if value:\n",
    "        value = value.replace(',','').replace(' ','')\n",
    "        value = re.search(r'\\d+\\.?\\d*',value)\n",
    "        if value:\n",
    "            value = value.group()\n",
    "            value = eval(value)\n",
    "        else:\n",
    "            return ''\n",
    "    return value\n",
    "\n",
    "data = {\n",
    "    'id': [],\n",
    "    'url':[],\n",
    "    'name':[],\n",
    "    'price':[],\n",
    "    'price unit':[],\n",
    "    'code':[],\n",
    "    'duration':[],\n",
    "    'slot date':[],\n",
    "    'slot time':[],\n",
    "}\n",
    "\n",
    "driver = setup()\n",
    "mainUrl = 'https://www.exitcertified.com/search/SOLRSearchForm?terms=EC-COUNCIL&action_SOLRSearchForm_submit=Search&locale=en_US&RevertFilterAllowed=0&HasSearched=1&sort=Title_textSort%3A0&page=1&filter=+Course'\n",
    "driver.get(mainUrl)\n",
    "sleep(5)\n",
    "\n",
    "urls = [a.get_attribute('href') for a in driver.find_elements(By.XPATH, '//h3[@class=\"solr-result-title md-typography md-typography--root md-typography-h6\"]//a')]\n",
    "\n",
    "total = len(urls)\n",
    "Id = 0\n",
    "current = 0\n",
    "st = time()\n",
    "\n",
    "for url in urls:\n",
    "    driver.get(url)\n",
    "    sleep(5)\n",
    "    try:\n",
    "        name = get_data(driver.find_element(By.XPATH, '//h1'))\n",
    "    except:\n",
    "        name = ''\n",
    "\n",
    "    try:\n",
    "        price = driver.find_element(By.XPATH, '//*[@class=\"price\"]')\n",
    "        price = get_data(price).replace(',','').replace(' ','')\n",
    "        price = re.search(r'\\d+\\.?\\d*',price).group()\n",
    "        price_unit = 'USD'\n",
    "    except:\n",
    "        price = ''\n",
    "        price_unit = ''\n",
    "\n",
    "    try:\n",
    "        code = get_data(driver.find_element(By.XPATH, '//*[@class=\"detail \"]//*[@class=\"text\"]'))\n",
    "    except:\n",
    "        code = ''\n",
    "    \n",
    "    try:\n",
    "        duration = get_data(driver.find_element(By.XPATH, '//*[@class=\"detail duration\"]//*[@class=\"text\"]'))\n",
    "    except:\n",
    "        duration = ''\n",
    "\n",
    "    slots = driver.find_elements(By.XPATH, '//*[@class=\"upcoming-event-schedule preview\"]//li')\n",
    "\n",
    "    if len(slots) == 0:\n",
    "        slots = ['']\n",
    "\n",
    "    for slot in slots:\n",
    "\n",
    "        try:\n",
    "            slot_date = get_data(slot.find_element(By.XPATH, './/*[@class=\"start\"]'))\n",
    "        except:\n",
    "            slot_date = ''\n",
    "        \n",
    "        try:\n",
    "            slot_time = get_data(slot.find_element(By.XPATH, './/*[@class=\"time-info\"]'))\n",
    "        except:\n",
    "            slot_time = ''\n",
    "\n",
    "        data['id'].append(Id)\n",
    "        data['url'].append(url)\n",
    "        data['name'].append(name)\n",
    "        data['price'].append(price)\n",
    "        data['price unit'].append(price_unit)\n",
    "        data['code'].append(code)\n",
    "        data['duration'].append(duration)\n",
    "        data['slot date'].append(slot_date)\n",
    "        data['slot time'].append(slot_time)\n",
    "\n",
    "    Id += 1\n",
    "\n",
    "    progressBar(total, current, st)\n",
    "    current += 1\n",
    "\n",
    "    # if current >= 2:\n",
    "    #     break\n",
    "\n",
    "driver.quit()\n",
    "\n",
    "import pandas as pd\n",
    "df = pd.DataFrame(data)\n",
    "df.to_excel('exitCertified_ec-council.py.xlsx', index=False)\n",
    "print('\\nData saved to Excel')\n"
   ]
  },
  {
   "cell_type": "code",
   "execution_count": 4,
   "metadata": {},
   "outputs": [
    {
     "name": "stdout",
     "output_type": "stream",
     "text": [
      "Original columns: ['id', 'url', 'name', 'price', 'price unit', 'code', 'duration', 'slot date', 'slot time']\n",
      "Columns after processing: ['id', 'url', 'name', 'price', 'price unit', 'code', 'duration', 'slot time', 'start_date', 'end_date', 'slot_time']\n",
      "Warning: Column length mismatch. DataFrame has 11 columns, but expected 9.\n"
     ]
    },
    {
     "ename": "KeyError",
     "evalue": "\"['coursename', 'priceunit', 'course_code'] not in index\"",
     "output_type": "error",
     "traceback": [
      "\u001b[1;31m---------------------------------------------------------------------------\u001b[0m",
      "\u001b[1;31mKeyError\u001b[0m                                  Traceback (most recent call last)",
      "Cell \u001b[1;32mIn[4], line 58\u001b[0m\n\u001b[0;32m     56\u001b[0m input_excel_file \u001b[38;5;241m=\u001b[39m \u001b[38;5;124m'\u001b[39m\u001b[38;5;124mD:/360DT/Course_Scanner/new/Code/exitCertified_ec-council.xlsx\u001b[39m\u001b[38;5;124m'\u001b[39m\n\u001b[0;32m     57\u001b[0m output_csv_file \u001b[38;5;241m=\u001b[39m \u001b[38;5;124m'\u001b[39m\u001b[38;5;124moutput_file1.csv\u001b[39m\u001b[38;5;124m'\u001b[39m\n\u001b[1;32m---> 58\u001b[0m \u001b[43mprocess_excel\u001b[49m\u001b[43m(\u001b[49m\u001b[43minput_excel_file\u001b[49m\u001b[43m,\u001b[49m\u001b[43m \u001b[49m\u001b[43moutput_csv_file\u001b[49m\u001b[43m)\u001b[49m\n",
      "Cell \u001b[1;32mIn[4], line 50\u001b[0m, in \u001b[0;36mprocess_excel\u001b[1;34m(input_file, output_file)\u001b[0m\n\u001b[0;32m     48\u001b[0m \u001b[38;5;66;03m# Reorder columns to match the desired output format\u001b[39;00m\n\u001b[0;32m     49\u001b[0m final_columns \u001b[38;5;241m=\u001b[39m [\u001b[38;5;124m'\u001b[39m\u001b[38;5;124mid\u001b[39m\u001b[38;5;124m'\u001b[39m, \u001b[38;5;124m'\u001b[39m\u001b[38;5;124murl\u001b[39m\u001b[38;5;124m'\u001b[39m, \u001b[38;5;124m'\u001b[39m\u001b[38;5;124mcoursename\u001b[39m\u001b[38;5;124m'\u001b[39m, \u001b[38;5;124m'\u001b[39m\u001b[38;5;124mprice\u001b[39m\u001b[38;5;124m'\u001b[39m, \u001b[38;5;124m'\u001b[39m\u001b[38;5;124mpriceunit\u001b[39m\u001b[38;5;124m'\u001b[39m, \u001b[38;5;124m'\u001b[39m\u001b[38;5;124mcourse_code\u001b[39m\u001b[38;5;124m'\u001b[39m, \u001b[38;5;124m'\u001b[39m\u001b[38;5;124mduration\u001b[39m\u001b[38;5;124m'\u001b[39m, \u001b[38;5;124m'\u001b[39m\u001b[38;5;124mstart_date\u001b[39m\u001b[38;5;124m'\u001b[39m, \u001b[38;5;124m'\u001b[39m\u001b[38;5;124mend_date\u001b[39m\u001b[38;5;124m'\u001b[39m, \u001b[38;5;124m'\u001b[39m\u001b[38;5;124mslot_time\u001b[39m\u001b[38;5;124m'\u001b[39m, \u001b[38;5;124m'\u001b[39m\u001b[38;5;124mbrandname\u001b[39m\u001b[38;5;124m'\u001b[39m, \u001b[38;5;124m'\u001b[39m\u001b[38;5;124mregion\u001b[39m\u001b[38;5;124m'\u001b[39m]\n\u001b[1;32m---> 50\u001b[0m df \u001b[38;5;241m=\u001b[39m \u001b[43mdf\u001b[49m\u001b[43m[\u001b[49m\u001b[43mfinal_columns\u001b[49m\u001b[43m]\u001b[49m\n\u001b[0;32m     52\u001b[0m \u001b[38;5;66;03m# Write the DataFrame to a new CSV file\u001b[39;00m\n\u001b[0;32m     53\u001b[0m df\u001b[38;5;241m.\u001b[39mto_csv(output_file, index\u001b[38;5;241m=\u001b[39m\u001b[38;5;28;01mFalse\u001b[39;00m)\n",
      "File \u001b[1;32mc:\\Users\\acer\\AppData\\Local\\Programs\\Python\\Python312\\Lib\\site-packages\\pandas\\core\\frame.py:4108\u001b[0m, in \u001b[0;36mDataFrame.__getitem__\u001b[1;34m(self, key)\u001b[0m\n\u001b[0;32m   4106\u001b[0m     \u001b[38;5;28;01mif\u001b[39;00m is_iterator(key):\n\u001b[0;32m   4107\u001b[0m         key \u001b[38;5;241m=\u001b[39m \u001b[38;5;28mlist\u001b[39m(key)\n\u001b[1;32m-> 4108\u001b[0m     indexer \u001b[38;5;241m=\u001b[39m \u001b[38;5;28;43mself\u001b[39;49m\u001b[38;5;241;43m.\u001b[39;49m\u001b[43mcolumns\u001b[49m\u001b[38;5;241;43m.\u001b[39;49m\u001b[43m_get_indexer_strict\u001b[49m\u001b[43m(\u001b[49m\u001b[43mkey\u001b[49m\u001b[43m,\u001b[49m\u001b[43m \u001b[49m\u001b[38;5;124;43m\"\u001b[39;49m\u001b[38;5;124;43mcolumns\u001b[39;49m\u001b[38;5;124;43m\"\u001b[39;49m\u001b[43m)\u001b[49m[\u001b[38;5;241m1\u001b[39m]\n\u001b[0;32m   4110\u001b[0m \u001b[38;5;66;03m# take() does not accept boolean indexers\u001b[39;00m\n\u001b[0;32m   4111\u001b[0m \u001b[38;5;28;01mif\u001b[39;00m \u001b[38;5;28mgetattr\u001b[39m(indexer, \u001b[38;5;124m\"\u001b[39m\u001b[38;5;124mdtype\u001b[39m\u001b[38;5;124m\"\u001b[39m, \u001b[38;5;28;01mNone\u001b[39;00m) \u001b[38;5;241m==\u001b[39m \u001b[38;5;28mbool\u001b[39m:\n",
      "File \u001b[1;32mc:\\Users\\acer\\AppData\\Local\\Programs\\Python\\Python312\\Lib\\site-packages\\pandas\\core\\indexes\\base.py:6200\u001b[0m, in \u001b[0;36mIndex._get_indexer_strict\u001b[1;34m(self, key, axis_name)\u001b[0m\n\u001b[0;32m   6197\u001b[0m \u001b[38;5;28;01melse\u001b[39;00m:\n\u001b[0;32m   6198\u001b[0m     keyarr, indexer, new_indexer \u001b[38;5;241m=\u001b[39m \u001b[38;5;28mself\u001b[39m\u001b[38;5;241m.\u001b[39m_reindex_non_unique(keyarr)\n\u001b[1;32m-> 6200\u001b[0m \u001b[38;5;28;43mself\u001b[39;49m\u001b[38;5;241;43m.\u001b[39;49m\u001b[43m_raise_if_missing\u001b[49m\u001b[43m(\u001b[49m\u001b[43mkeyarr\u001b[49m\u001b[43m,\u001b[49m\u001b[43m \u001b[49m\u001b[43mindexer\u001b[49m\u001b[43m,\u001b[49m\u001b[43m \u001b[49m\u001b[43maxis_name\u001b[49m\u001b[43m)\u001b[49m\n\u001b[0;32m   6202\u001b[0m keyarr \u001b[38;5;241m=\u001b[39m \u001b[38;5;28mself\u001b[39m\u001b[38;5;241m.\u001b[39mtake(indexer)\n\u001b[0;32m   6203\u001b[0m \u001b[38;5;28;01mif\u001b[39;00m \u001b[38;5;28misinstance\u001b[39m(key, Index):\n\u001b[0;32m   6204\u001b[0m     \u001b[38;5;66;03m# GH 42790 - Preserve name from an Index\u001b[39;00m\n",
      "File \u001b[1;32mc:\\Users\\acer\\AppData\\Local\\Programs\\Python\\Python312\\Lib\\site-packages\\pandas\\core\\indexes\\base.py:6252\u001b[0m, in \u001b[0;36mIndex._raise_if_missing\u001b[1;34m(self, key, indexer, axis_name)\u001b[0m\n\u001b[0;32m   6249\u001b[0m     \u001b[38;5;28;01mraise\u001b[39;00m \u001b[38;5;167;01mKeyError\u001b[39;00m(\u001b[38;5;124mf\u001b[39m\u001b[38;5;124m\"\u001b[39m\u001b[38;5;124mNone of [\u001b[39m\u001b[38;5;132;01m{\u001b[39;00mkey\u001b[38;5;132;01m}\u001b[39;00m\u001b[38;5;124m] are in the [\u001b[39m\u001b[38;5;132;01m{\u001b[39;00maxis_name\u001b[38;5;132;01m}\u001b[39;00m\u001b[38;5;124m]\u001b[39m\u001b[38;5;124m\"\u001b[39m)\n\u001b[0;32m   6251\u001b[0m not_found \u001b[38;5;241m=\u001b[39m \u001b[38;5;28mlist\u001b[39m(ensure_index(key)[missing_mask\u001b[38;5;241m.\u001b[39mnonzero()[\u001b[38;5;241m0\u001b[39m]]\u001b[38;5;241m.\u001b[39munique())\n\u001b[1;32m-> 6252\u001b[0m \u001b[38;5;28;01mraise\u001b[39;00m \u001b[38;5;167;01mKeyError\u001b[39;00m(\u001b[38;5;124mf\u001b[39m\u001b[38;5;124m\"\u001b[39m\u001b[38;5;132;01m{\u001b[39;00mnot_found\u001b[38;5;132;01m}\u001b[39;00m\u001b[38;5;124m not in index\u001b[39m\u001b[38;5;124m\"\u001b[39m)\n",
      "\u001b[1;31mKeyError\u001b[0m: \"['coursename', 'priceunit', 'course_code'] not in index\""
     ]
    }
   ],
   "source": [
    "import pandas as pd\n",
    "\n",
    "# Define the function to process the Excel file\n",
    "def process_excel(input_file, output_file):\n",
    "    # Read the Excel file into a DataFrame\n",
    "    df = pd.read_excel(input_file)\n",
    "\n",
    "    # Print columns to understand their current state\n",
    "    print(\"Original columns:\", df.columns.tolist())\n",
    "\n",
    "    # Split 'slot date' into 'start_date' and 'end_date'\n",
    "    if 'slot date' in df.columns:\n",
    "        df[['start_date', 'end_date']] = df['slot date'].str.split(' - ', expand=True)\n",
    "    \n",
    "    # Assign the correct values to the new columns\n",
    "    df['slot_time'] = df['start_date']  # Move the original 'start_date' to 'slot_time'\n",
    "    df['start_date'] = df['end_date']  # Move the original 'end_date' to 'start_date'\n",
    "    df['end_date'] = df['slot_time']  # The original 'slot_time' should be in 'end_date'\n",
    "\n",
    "    # Drop the original 'slot date' column\n",
    "    df.drop(columns=['slot date'], inplace=True, errors='ignore')\n",
    "\n",
    "    # Print columns to confirm changes\n",
    "    print(\"Columns after processing:\", df.columns.tolist())\n",
    "\n",
    "    # Rename columns as specified, if the number of columns matches\n",
    "    expected_columns = [\n",
    "        'id',\n",
    "        'url',\n",
    "        'coursename',\n",
    "        'price',\n",
    "        'priceunit',\n",
    "        'course_code',\n",
    "        'duration',\n",
    "        'start_date',\n",
    "        'end_date',\n",
    "        'slot_time'\n",
    "    ]\n",
    "\n",
    "    if len(df.columns) == len(expected_columns):\n",
    "        df.columns = expected_columns\n",
    "    else:\n",
    "        print(f\"Warning: Column length mismatch. DataFrame has {len(df.columns)} columns, but expected {len(expected_columns)}.\")\n",
    "\n",
    "    # Add static columns for 'brandname' and 'region'\n",
    "    df['brandname'] = 'AWS'\n",
    "    df['region'] = 'USA'\n",
    "\n",
    "    # Reorder columns to match the desired output format\n",
    "    final_columns = ['id', 'url', 'coursename', 'price', 'priceunit', 'course_code', 'duration', 'start_date', 'end_date', 'slot_time', 'brandname', 'region']\n",
    "    df = df[final_columns]\n",
    "\n",
    "    # Write the DataFrame to a new CSV file\n",
    "    df.to_csv(output_file, index=False)\n",
    "\n",
    "# Example usage\n",
    "input_excel_file = 'D:/360DT/Course_Scanner/new/Code/exitCertified_ec-council.xlsx'\n",
    "output_csv_file = 'output_file1.csv'\n",
    "process_excel(input_excel_file, output_csv_file)\n"
   ]
  },
  {
   "cell_type": "code",
   "execution_count": null,
   "metadata": {},
   "outputs": [],
   "source": []
  }
 ],
 "metadata": {
  "kernelspec": {
   "display_name": "Python 3",
   "language": "python",
   "name": "python3"
  },
  "language_info": {
   "codemirror_mode": {
    "name": "ipython",
    "version": 3
   },
   "file_extension": ".py",
   "mimetype": "text/x-python",
   "name": "python",
   "nbconvert_exporter": "python",
   "pygments_lexer": "ipython3",
   "version": "3.12.3"
  }
 },
 "nbformat": 4,
 "nbformat_minor": 2
}
